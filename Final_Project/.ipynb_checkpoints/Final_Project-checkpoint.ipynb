{
 "cells": [
  {
   "cell_type": "code",
   "execution_count": 3,
   "id": "97ba2640-406d-42c7-be51-8a9400fa33fb",
   "metadata": {},
   "outputs": [],
   "source": [
    "import numpy as np\n",
    "import matplotlib as plt\n",
    "import pandas as pd\n",
    "from matplotlib.animation import FuncAnimation\n",
    "import astropy as ap\n",
    "import time"
   ]
  },
  {
   "cell_type": "code",
   "execution_count": null,
   "id": "5e0b17a7-6a16-413d-a2fe-090260983a2b",
   "metadata": {},
   "outputs": [],
   "source": [
    "M_E = 5.972*10^{24} # Earth Mass, kg\n",
    "P_E = 23.9333 # Earth Rotation Period, hours\n",
    "T_E = 365.2422 # Earth Orbital Period, days\n",
    "R_E = 6378 # Earth Radius, km\n",
    "theta = # angle from the level of Moon's orbit on Earth (must be subtracted from Earth's own axial tilt)\n",
    "t = # Time, ellapsed from set point, in hours/seconds\n",
    "omega 0.262 rad/hr # radial velocity of Earth\n",
    "\n",
    "M_m = 7.348*10^{22} # Moon Mass, kg\n",
    "T_m = 27.2917 # Moon Orbital Period, days\n",
    "D_a = 405696 # Earth-Center-Moon Apogee, km\n",
    "D_p = 363300 # Earth-Center-Moon Perigee, km\n",
    "\n",
    "M_S = 1.989*10^{30} # Sun Mass, kg\n",
    "L_a = 152097701 # Earth-Sun Aphelion, km\n",
    "L_p = 147098074 # Earth-Sun Perihelion, km"
   ]
  }
 ],
 "metadata": {
  "kernelspec": {
   "display_name": "Python 3 (ipykernel)",
   "language": "python",
   "name": "python3"
  },
  "language_info": {
   "codemirror_mode": {
    "name": "ipython",
    "version": 3
   },
   "file_extension": ".py",
   "mimetype": "text/x-python",
   "name": "python",
   "nbconvert_exporter": "python",
   "pygments_lexer": "ipython3",
   "version": "3.12.7"
  }
 },
 "nbformat": 4,
 "nbformat_minor": 5
}
