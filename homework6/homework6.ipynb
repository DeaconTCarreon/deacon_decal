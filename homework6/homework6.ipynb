{
 "cells": [
  {
   "cell_type": "code",
   "execution_count": 3,
   "id": "1d1fc8cc-bcf8-4f13-9274-968f90fec036",
   "metadata": {},
   "outputs": [],
   "source": [
    "import numpy as np"
   ]
  },
  {
   "cell_type": "code",
   "execution_count": 124,
   "id": "f5237e1a-0cff-45a3-863a-8c1c4ef36fe8",
   "metadata": {},
   "outputs": [
    {
     "data": {
      "text/plain": [
       "array([[ 2,  3,  5],\n",
       "       [11, 13, 17],\n",
       "       [ 7, 10, 13]])"
      ]
     },
     "execution_count": 124,
     "metadata": {},
     "output_type": "execute_result"
    }
   ],
   "source": [
    "#1\n",
    "\n",
    "star_data = np.array([[2, 3, 5], [4, 6, 8], [11, 13, 17], [7, 10, 13]])\n",
    "\n",
    "def containsPrimes(num):\n",
    "    for i in range(2, int(np.sqrt(num))+1):\n",
    "        if (num % i) == 0:\n",
    "            return False\n",
    "        else:\n",
    "            return True\n",
    "\n",
    "result = []\n",
    "for row in star_data:\n",
    "    if any (containsPrimes(num) for num in row):\n",
    "        result.append(row)\n",
    "prime_star_data = np.array(result)\n",
    "\n",
    "prime_star_data"
   ]
  },
  {
   "cell_type": "code",
   "execution_count": 125,
   "id": "7e6a1517-0287-4a2e-bbd0-141b308b7762",
   "metadata": {},
   "outputs": [
    {
     "data": {
      "text/plain": [
       "array([[0, 0, 0, 0, 0, 0, 0, 0],\n",
       "       [0, 0, 0, 0, 0, 0, 0, 0],\n",
       "       [0, 0, 0, 0, 0, 0, 0, 0],\n",
       "       [0, 0, 0, 0, 0, 0, 0, 0],\n",
       "       [0, 0, 0, 0, 0, 0, 0, 0],\n",
       "       [0, 0, 0, 0, 0, 0, 0, 0],\n",
       "       [0, 0, 0, 0, 0, 0, 0, 0],\n",
       "       [0, 0, 0, 0, 0, 0, 0, 0]])"
      ]
     },
     "execution_count": 125,
     "metadata": {},
     "output_type": "execute_result"
    }
   ],
   "source": [
    "#2.1\n",
    "\n",
    "list = []\n",
    "for i in range(1, 65):\n",
    "    list.append(0)\n",
    "\n",
    "checkerboard = np.array(list)\n",
    "checkerboard.shape = (8, 8)\n",
    "\n",
    "checkerboard"
   ]
  },
  {
   "cell_type": "code",
   "execution_count": 126,
   "id": "9ce1db16-dfe8-47e0-8c17-ee909d84ddb7",
   "metadata": {},
   "outputs": [
    {
     "data": {
      "text/plain": [
       "array([[1, 0, 1, 0, 1, 0, 1, 0],\n",
       "       [0, 0, 0, 0, 0, 0, 0, 0],\n",
       "       [1, 0, 1, 0, 1, 0, 1, 0],\n",
       "       [0, 0, 0, 0, 0, 0, 0, 0],\n",
       "       [1, 0, 1, 0, 1, 0, 1, 0],\n",
       "       [0, 0, 0, 0, 0, 0, 0, 0],\n",
       "       [1, 0, 1, 0, 1, 0, 1, 0],\n",
       "       [0, 0, 0, 0, 0, 0, 0, 0]])"
      ]
     },
     "execution_count": 126,
     "metadata": {},
     "output_type": "execute_result"
    }
   ],
   "source": [
    "#2.2\n",
    "\n",
    "checkerboard[0:8:2, 0:8:2] = 1\n",
    "\n",
    "checkerboard"
   ]
  },
  {
   "cell_type": "code",
   "execution_count": 127,
   "id": "f18eb54b-7581-48f0-8887-fec77138ad9f",
   "metadata": {},
   "outputs": [
    {
     "data": {
      "text/plain": [
       "array([[1, 0, 1, 0, 1, 0, 1, 0],\n",
       "       [0, 1, 0, 1, 0, 1, 0, 1],\n",
       "       [1, 0, 1, 0, 1, 0, 1, 0],\n",
       "       [0, 1, 0, 1, 0, 1, 0, 1],\n",
       "       [1, 0, 1, 0, 1, 0, 1, 0],\n",
       "       [0, 1, 0, 1, 0, 1, 0, 1],\n",
       "       [1, 0, 1, 0, 1, 0, 1, 0],\n",
       "       [0, 1, 0, 1, 0, 1, 0, 1]])"
      ]
     },
     "execution_count": 127,
     "metadata": {},
     "output_type": "execute_result"
    }
   ],
   "source": [
    "#2.3\n",
    "\n",
    "checkerboard[1:8:2, 1:8:2] = 1\n",
    "\n",
    "checkerboard"
   ]
  },
  {
   "cell_type": "code",
   "execution_count": 128,
   "id": "979ca13a-3551-4b71-b655-acd403e1f7e6",
   "metadata": {},
   "outputs": [
    {
     "data": {
      "text/plain": [
       "array([[0, 1, 0, 1, 0, 1, 0, 1],\n",
       "       [1, 0, 1, 0, 1, 0, 1, 0],\n",
       "       [0, 1, 0, 1, 0, 1, 0, 1],\n",
       "       [1, 0, 1, 0, 1, 0, 1, 0],\n",
       "       [0, 1, 0, 1, 0, 1, 0, 1],\n",
       "       [1, 0, 1, 0, 1, 0, 1, 0],\n",
       "       [0, 1, 0, 1, 0, 1, 0, 1],\n",
       "       [1, 0, 1, 0, 1, 0, 1, 0]])"
      ]
     },
     "execution_count": 128,
     "metadata": {},
     "output_type": "execute_result"
    }
   ],
   "source": [
    "#2.4\n",
    "\n",
    "newcheckerboard = np.array(list)\n",
    "newcheckerboard.shape = (8, 8)\n",
    "\n",
    "newcheckerboard[0:8:2, 1:8:2] = 1\n",
    "newcheckerboard[1:8:2, 0:8:2] = 1\n",
    "\n",
    "newcheckerboard"
   ]
  },
  {
   "cell_type": "code",
   "execution_count": 130,
   "id": "c7afb04d-922f-4fd2-aeea-6c3de0a96ac2",
   "metadata": {},
   "outputs": [
    {
     "data": {
      "text/plain": [
       "['g   a   l   a   x   y   ', 'c   l   u   s   t   e   r   s   ']"
      ]
     },
     "execution_count": 130,
     "metadata": {},
     "output_type": "execute_result"
    }
   ],
   "source": [
    "#3\n",
    "\n",
    "universe = np.array(['galaxy', 'clusters'])\n",
    "\n",
    "def expansion(stringarr, numspaces):\n",
    "    newstringarr = []\n",
    "    spaces = \"\"\n",
    "    for n in range(0, numspaces):\n",
    "        spaces += \" \"\n",
    "    for i in range(0, len(stringarr)):\n",
    "        newstr = \"\"\n",
    "        currstring = stringarr[i]\n",
    "        for j in range(0, len(currstring)):\n",
    "            newstr += currstring[j]\n",
    "            newstr += spaces\n",
    "        newstringarr.append(newstr)\n",
    "    return newstringarr\n",
    "\n",
    "uni_expansion = expansion(universe, 3)\n",
    "uni_expansion"
   ]
  },
  {
   "cell_type": "code",
   "execution_count": 131,
   "id": "625be499-d3dd-4e8c-8853-a604228a5356",
   "metadata": {},
   "outputs": [
    {
     "data": {
      "text/plain": [
       "array([[1122, 1164, 1245, 1639, 1657],\n",
       "       [ 621,  738,  878, 1268, 1562],\n",
       "       [ 713,  965, 1203, 1947, 1994],\n",
       "       [1362, 1419, 1450, 1650, 1898],\n",
       "       [1193, 1344, 1421, 1879, 1975]])"
      ]
     },
     "execution_count": 131,
     "metadata": {},
     "output_type": "execute_result"
    }
   ],
   "source": [
    "#4\n",
    "\n",
    "stars = np.random.randint(500, 2000, (5, 5))\n",
    "sorted_stars = np.sort(stars)[::-1]\n",
    "sorted_stars"
   ]
  },
  {
   "cell_type": "code",
   "execution_count": 132,
   "id": "9d4d34aa-07c4-4c18-b319-0656bf455f21",
   "metadata": {},
   "outputs": [
    {
     "data": {
      "text/plain": [
       "array([[1164],\n",
       "       [ 738],\n",
       "       [ 965],\n",
       "       [1419],\n",
       "       [1344]])"
      ]
     },
     "execution_count": 132,
     "metadata": {},
     "output_type": "execute_result"
    }
   ],
   "source": [
    "#4 continued\n",
    "\n",
    "lowest = sorted_stars[0:5, 1:2]\n",
    "\n",
    "lowest_stars = np.array(lowest)\n",
    "lowest_stars"
   ]
  }
 ],
 "metadata": {
  "kernelspec": {
   "display_name": "Python 3 (ipykernel)",
   "language": "python",
   "name": "python3"
  },
  "language_info": {
   "codemirror_mode": {
    "name": "ipython",
    "version": 3
   },
   "file_extension": ".py",
   "mimetype": "text/x-python",
   "name": "python",
   "nbconvert_exporter": "python",
   "pygments_lexer": "ipython3",
   "version": "3.12.7"
  }
 },
 "nbformat": 4,
 "nbformat_minor": 5
}
