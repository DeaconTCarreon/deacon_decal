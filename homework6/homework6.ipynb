{
 "cells": [
  {
   "cell_type": "code",
   "execution_count": 3,
   "id": "1d1fc8cc-bcf8-4f13-9274-968f90fec036",
   "metadata": {},
   "outputs": [],
   "source": [
    "import numpy as np"
   ]
  },
  {
   "cell_type": "code",
   "execution_count": 90,
   "id": "f5237e1a-0cff-45a3-863a-8c1c4ef36fe8",
   "metadata": {},
   "outputs": [
    {
     "ename": "ValueError",
     "evalue": "The truth value of an array with more than one element is ambiguous. Use a.any() or a.all()",
     "output_type": "error",
     "traceback": [
      "\u001b[1;31m---------------------------------------------------------------------------\u001b[0m",
      "\u001b[1;31mValueError\u001b[0m                                Traceback (most recent call last)",
      "Cell \u001b[1;32mIn[90], line 28\u001b[0m\n\u001b[0;32m     25\u001b[0m                 prime_star_data \u001b[38;5;241m=\u001b[39m np\u001b[38;5;241m.\u001b[39mappend(prime_star_data, \u001b[38;5;28mlist\u001b[39m)\n\u001b[0;32m     26\u001b[0m     \u001b[38;5;28;01mreturn\u001b[39;00m(prime_star_data)\n\u001b[1;32m---> 28\u001b[0m containsPrimes \u001b[38;5;241m=\u001b[39m containsPrimes(star_data)\n\u001b[0;32m     29\u001b[0m containsPrimes\n",
      "Cell \u001b[1;32mIn[90], line 22\u001b[0m, in \u001b[0;36mcontainsPrimes\u001b[1;34m(star_data)\u001b[0m\n\u001b[0;32m     20\u001b[0m \u001b[38;5;28;01mfor\u001b[39;00m i \u001b[38;5;129;01min\u001b[39;00m star_data:\n\u001b[0;32m     21\u001b[0m     \u001b[38;5;28;01mfor\u001b[39;00m j \u001b[38;5;129;01min\u001b[39;00m i:\n\u001b[1;32m---> 22\u001b[0m         \u001b[38;5;28;01mif\u001b[39;00m j\u001b[38;5;241m%\u001b[39mi \u001b[38;5;241m==\u001b[39m \u001b[38;5;241m0\u001b[39m:\n\u001b[0;32m     23\u001b[0m             count \u001b[38;5;241m+\u001b[39m\u001b[38;5;241m=\u001b[39m \u001b[38;5;241m1\u001b[39m\n\u001b[0;32m     24\u001b[0m     \u001b[38;5;28;01mif\u001b[39;00m count \u001b[38;5;241m==\u001b[39m \u001b[38;5;241m2\u001b[39m:\n",
      "\u001b[1;31mValueError\u001b[0m: The truth value of an array with more than one element is ambiguous. Use a.any() or a.all()"
     ]
    }
   ],
   "source": [
    "#1\n",
    "\n",
    "star_data = np.array([[2, 3, 5], [4, 6, 8], [11, 13, 17], [7, 10, 13]])\n",
    "prime_star_data = np.array([])\n",
    "\n",
    "\n",
    "# def containsPrimes(star_data):\n",
    "#     count = 0\n",
    "#     for list in range(len(star_data)):\n",
    "#         for i in star_data[list]:\n",
    "#             for j in range (1, i+1):\n",
    "#                 if i%j == 0:\n",
    "#                     count += 1\n",
    "#             if count == 2:\n",
    "#                  np.append(prime_star_data, list)\n",
    "#     return(prime_star_data)\n",
    "\n",
    "def containsPrimes(star_data):\n",
    "    count = 0\n",
    "    for i in star_data:\n",
    "        for j in i:\n",
    "            if j%i == 0:\n",
    "                count += 1\n",
    "        if count == 2:\n",
    "                prime_star_data = np.append(prime_star_data, list)\n",
    "    return(prime_star_data)\n",
    "\n",
    "\n",
    "\n",
    "\n",
    "\n",
    "containsPrimes = containsPrimes(star_data)\n",
    "containsPrimes"
   ]
  },
  {
   "cell_type": "code",
   "execution_count": 91,
   "id": "7e6a1517-0287-4a2e-bbd0-141b308b7762",
   "metadata": {},
   "outputs": [
    {
     "data": {
      "text/plain": [
       "array([[0, 0, 0, 0, 0, 0, 0, 0],\n",
       "       [0, 0, 0, 0, 0, 0, 0, 0],\n",
       "       [0, 0, 0, 0, 0, 0, 0, 0],\n",
       "       [0, 0, 0, 0, 0, 0, 0, 0],\n",
       "       [0, 0, 0, 0, 0, 0, 0, 0],\n",
       "       [0, 0, 0, 0, 0, 0, 0, 0],\n",
       "       [0, 0, 0, 0, 0, 0, 0, 0],\n",
       "       [0, 0, 0, 0, 0, 0, 0, 0]])"
      ]
     },
     "execution_count": 91,
     "metadata": {},
     "output_type": "execute_result"
    }
   ],
   "source": [
    "#2.1\n",
    "\n",
    "list = []\n",
    "for i in range(1, 65):\n",
    "    list.append(0)\n",
    "\n",
    "checkerboard = np.array(list)\n",
    "checkerboard.shape = (8, 8)\n",
    "\n",
    "checkerboard"
   ]
  },
  {
   "cell_type": "code",
   "execution_count": 82,
   "id": "9ce1db16-dfe8-47e0-8c17-ee909d84ddb7",
   "metadata": {},
   "outputs": [
    {
     "data": {
      "text/plain": [
       "array([[1, 0, 1, 0, 1, 0, 1, 0],\n",
       "       [0, 0, 0, 0, 0, 0, 0, 0],\n",
       "       [1, 0, 1, 0, 1, 0, 1, 0],\n",
       "       [0, 0, 0, 0, 0, 0, 0, 0],\n",
       "       [1, 0, 1, 0, 1, 0, 1, 0],\n",
       "       [0, 0, 0, 0, 0, 0, 0, 0],\n",
       "       [1, 0, 1, 0, 1, 0, 1, 0],\n",
       "       [0, 0, 0, 0, 0, 0, 0, 0]])"
      ]
     },
     "execution_count": 82,
     "metadata": {},
     "output_type": "execute_result"
    }
   ],
   "source": [
    "#2.2\n",
    "\n",
    "checkerboard[0:8:2, 0:8:2] = 1\n",
    "\n",
    "checkerboard"
   ]
  },
  {
   "cell_type": "code",
   "execution_count": 67,
   "id": "f18eb54b-7581-48f0-8887-fec77138ad9f",
   "metadata": {},
   "outputs": [
    {
     "data": {
      "text/plain": [
       "array([[1, 0, 1, 0, 1, 0, 1, 0],\n",
       "       [0, 1, 0, 1, 0, 1, 0, 1],\n",
       "       [1, 0, 1, 0, 1, 0, 1, 0],\n",
       "       [0, 1, 0, 1, 0, 1, 0, 1],\n",
       "       [1, 0, 1, 0, 1, 0, 1, 0],\n",
       "       [0, 1, 0, 1, 0, 1, 0, 1],\n",
       "       [1, 0, 1, 0, 1, 0, 1, 0],\n",
       "       [0, 1, 0, 1, 0, 1, 0, 1]])"
      ]
     },
     "execution_count": 67,
     "metadata": {},
     "output_type": "execute_result"
    }
   ],
   "source": [
    "#2.3\n",
    "\n",
    "checkerboard[1:8:2, 1:8:2] = 1\n",
    "\n",
    "checkerboard"
   ]
  },
  {
   "cell_type": "code",
   "execution_count": 88,
   "id": "979ca13a-3551-4b71-b655-acd403e1f7e6",
   "metadata": {},
   "outputs": [
    {
     "data": {
      "text/plain": [
       "array([[0, 1, 0, 1, 0, 1, 0, 1],\n",
       "       [0, 0, 0, 0, 0, 0, 0, 0],\n",
       "       [0, 1, 0, 1, 0, 1, 0, 1],\n",
       "       [0, 0, 0, 0, 0, 0, 0, 0],\n",
       "       [0, 1, 0, 1, 0, 1, 0, 1],\n",
       "       [0, 0, 0, 0, 0, 0, 0, 0],\n",
       "       [0, 1, 0, 1, 0, 1, 0, 1],\n",
       "       [0, 0, 0, 0, 0, 0, 0, 0]])"
      ]
     },
     "execution_count": 88,
     "metadata": {},
     "output_type": "execute_result"
    }
   ],
   "source": [
    "#2.4\n",
    "\n",
    "newcheckerboard = np.array(list)\n",
    "newcheckerboard.shape = (8, 8)\n",
    "\n",
    "newcheckerboard[0:8:2, 1:8:2] = 1\n",
    "newcheckerboard[1:8:2, 0:8:2] = 1\n",
    "\n",
    "newcheckerboard"
   ]
  },
  {
   "cell_type": "code",
   "execution_count": 43,
   "id": "c7afb04d-922f-4fd2-aeea-6c3de0a96ac2",
   "metadata": {},
   "outputs": [
    {
     "data": {
      "text/plain": [
       "['g  a  l  a  x  y  ', 'c  l  u  s  t  e  r  s  ']"
      ]
     },
     "execution_count": 43,
     "metadata": {},
     "output_type": "execute_result"
    }
   ],
   "source": [
    "#3\n",
    "\n",
    "universe = np.array(['galaxy', 'clusters'])\n",
    "\n",
    "def expansion(stringarr, numspaces):\n",
    "    newstringarr = []\n",
    "    spaces = \"\"\n",
    "    for n in range(0, numspaces):\n",
    "        spaces += \" \"\n",
    "    for i in range(0, len(stringarr)):\n",
    "        newstr = \"\"\n",
    "        currstring = stringarr[i]\n",
    "        for j in range(0, len(currstring)):\n",
    "            newstr += currstring[j]\n",
    "            newstr += spaces\n",
    "        newstringarr.append(newstr)\n",
    "    return newstringarr\n",
    "\n",
    "uni_expansion = expansion(universe, 2)\n",
    "uni_expansion"
   ]
  },
  {
   "cell_type": "code",
   "execution_count": 110,
   "id": "625be499-d3dd-4e8c-8853-a604228a5356",
   "metadata": {},
   "outputs": [
    {
     "name": "stdout",
     "output_type": "stream",
     "text": [
      "[[ 916 1372 1808 1927 1998]\n",
      " [ 905 1096 1274 1855 1910]\n",
      " [ 560  601  930  947 1970]\n",
      " [ 707 1288 1389 1618 1954]\n",
      " [ 508  788 1257 1344 1925]]\n"
     ]
    },
    {
     "data": {
      "text/plain": [
       "array([[1372],\n",
       "       [1096],\n",
       "       [ 601],\n",
       "       [1288],\n",
       "       [ 788]])"
      ]
     },
     "execution_count": 110,
     "metadata": {},
     "output_type": "execute_result"
    }
   ],
   "source": [
    "#4\n",
    "\n",
    "stars = np.random.randint(500, 2000, (5, 5))\n",
    "sorted_stars = np.sort(stars)[::-1]\n",
    "\n",
    "lowest = sorted_stars[0:5, 1:2]\n",
    "\n",
    "lowest_stars = np.array(lowest)\n",
    "lowest_stars"
   ]
  },
  {
   "cell_type": "code",
   "execution_count": null,
   "id": "9d4d34aa-07c4-4c18-b319-0656bf455f21",
   "metadata": {},
   "outputs": [],
   "source": []
  }
 ],
 "metadata": {
  "kernelspec": {
   "display_name": "Python 3 (ipykernel)",
   "language": "python",
   "name": "python3"
  },
  "language_info": {
   "codemirror_mode": {
    "name": "ipython",
    "version": 3
   },
   "file_extension": ".py",
   "mimetype": "text/x-python",
   "name": "python",
   "nbconvert_exporter": "python",
   "pygments_lexer": "ipython3",
   "version": "3.12.7"
  }
 },
 "nbformat": 4,
 "nbformat_minor": 5
}
